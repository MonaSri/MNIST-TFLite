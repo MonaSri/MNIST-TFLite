{
 "cells": [
  {
   "cell_type": "markdown",
   "metadata": {},
   "source": [
    "# MNIST for mobile devs\n",
    "\n",
    "This notebook is just the longer, more detailed version of [Get Started with TensorFlow](https://www.tensorflow.org/tutorials/) ([Colab notebook](https://colab.research.google.com/github/tensorflow/docs/blob/master/site/en/tutorials/_index.ipynb#scrollTo=T4JfEh7kvx6m)). The intention here is to show the way of thinking that can be useful for you, as a consumer of TensorFlow model. It shows where some numbers come from, so you know how to plug in your first model to Android or any other platform supporting TensorFlow lite.\n",
    "\n",
    "**Hey, mobile engineer**, look for -> (⚠️📲👀). It can be useful information for you while implementing MNIST model in mobile app."
   ]
  },
  {
   "cell_type": "code",
   "execution_count": 1,
   "metadata": {},
   "outputs": [
    {
     "name": "stdout",
     "output_type": "stream",
     "text": [
      "TensorFlow version 1.12.0\n"
     ]
    }
   ],
   "source": [
    "# TensorFlow and tf.keras\n",
    "import tensorflow as tf\n",
    "from tensorflow import keras\n",
    "\n",
    "# Helper libraries\n",
    "import numpy as np\n",
    "import matplotlib.pyplot as plt\n",
    "\n",
    "print(\"TensorFlow version {}\".format(tf.__version__))"
   ]
  },
  {
   "cell_type": "markdown",
   "metadata": {},
   "source": [
    "Load MNIST dataset:"
   ]
  },
  {
   "cell_type": "code",
   "execution_count": 2,
   "metadata": {},
   "outputs": [],
   "source": [
    "mnist = tf.keras.datasets.mnist\n",
    "(images_train, labels_train),(images_test, labels_test) = mnist.load_data()\n",
    "class_names = [\"zero\",\"one\",\"two\",\"three\",\"four\",\"five\",\"six\",\"seven\",\"eight\",\"nine\"]"
   ]
  },
  {
   "cell_type": "markdown",
   "metadata": {},
   "source": [
    "## What is our training data?"
   ]
  },
  {
   "cell_type": "markdown",
   "metadata": {},
   "source": [
    "### Training images"
   ]
  },
  {
   "cell_type": "code",
   "execution_count": 3,
   "metadata": {},
   "outputs": [
    {
     "name": "stdout",
     "output_type": "stream",
     "text": [
      "Data type: <class 'numpy.ndarray'>\n",
      "Dataset shape: (60000, 28, 28)\n"
     ]
    }
   ],
   "source": [
    "print(\"Data type:\", type(images_train))\n",
    "print(\"Dataset shape:\", (images_train.shape))"
   ]
  },
  {
   "cell_type": "markdown",
   "metadata": {},
   "source": [
    "It means that we get array of 60000 images for training, 28x28 pixels each."
   ]
  },
  {
   "cell_type": "markdown",
   "metadata": {},
   "source": [
    "### Labels"
   ]
  },
  {
   "cell_type": "code",
   "execution_count": 4,
   "metadata": {},
   "outputs": [
    {
     "name": "stdout",
     "output_type": "stream",
     "text": [
      "Labels: 60000\n",
      "Possible values: [0 1 2 3 4 5 6 7 8 9]\n"
     ]
    }
   ],
   "source": [
    "print(\"Labels:\", len(labels_train))\n",
    "print(\"Possible values:\", np.unique(labels_train))"
   ]
  },
  {
   "cell_type": "markdown",
   "metadata": {},
   "source": [
    "### Example image"
   ]
  },
  {
   "cell_type": "code",
   "execution_count": 5,
   "metadata": {},
   "outputs": [
    {
     "data": {
      "image/png": "[encoded data removed]",
      "text/plain": [
       "<Figure size 432x288 with 2 Axes>"
      ]
     },
     "metadata": {
      "needs_background": "light"
     },
     "output_type": "display_data"
    }
   ],
   "source": [
    "plt.figure()\n",
    "plt.imshow(images_train[0])\n",
    "plt.colorbar()\n",
    "plt.grid(False)\n",
    "plt.xlabel(\"Classification label: {}\".format(labels_train[0]))\n",
    "plt.show()"
   ]
  },
  {
   "cell_type": "markdown",
   "metadata": {},
   "source": [
    "Each cell (pixel) can have value from 0 to 255 like it's presented above. \n",
    "\n",
    "Let's scale it to float value between 0 and 1:"
   ]
  },
  {
   "cell_type": "code",
   "execution_count": 6,
   "metadata": {},
   "outputs": [],
   "source": [
    "images_train = images_train / 255.0\n",
    "images_test = images_test / 255.0"
   ]
  },
  {
   "cell_type": "code",
   "execution_count": 7,
   "metadata": {},
   "outputs": [
    {
     "data": {
      "image/png": "[encoded data removed]",
      "text/plain": [
       "<Figure size 432x288 with 2 Axes>"
      ]
     },
     "metadata": {
      "needs_background": "light"
     },
     "output_type": "display_data"
    }
   ],
   "source": [
    "plt.figure()\n",
    "plt.imshow(images_train[0])\n",
    "plt.colorbar()\n",
    "plt.grid(False)\n",
    "plt.xlabel(\"Classification label: {}\".format(labels_train[0]))\n",
    "plt.show()"
   ]
  },
  {
   "cell_type": "markdown",
   "metadata": {},
   "source": [
    "---\n",
    "(⚠️📲👀)\n",
    "\n",
    "It is worth mentioning that input images are inverted (white number on black background). MNIST data is prepared in a way where the smaller pixel's value is, the whiter it is (0 means 100% white, 255 means 100% black). \n",
    "\n",
    "It's important because when you plug in model to an Android app, you will need to prepare input image in the same way (scale down and inverse colors)."
   ]
  },
  {
   "cell_type": "code",
   "execution_count": 8,
   "metadata": {},
   "outputs": [
    {
     "data": {
      "text/plain": [
       "<matplotlib.image.AxesImage at 0x7fa14e582ba8>"
      ]
     },
     "execution_count": 8,
     "metadata": {},
     "output_type": "execute_result"
    },
    {
     "data": {
      "image/png": "[encoded data removed]",
      "text/plain": [
       "<Figure size 720x720 with 2 Axes>"
      ]
     },
     "metadata": {},
     "output_type": "display_data"
    }
   ],
   "source": [
    "plt.figure(figsize=(10, 10))\n",
    "\n",
    "plt.subplot(3, 6, 1)\n",
    "plt.xticks([])\n",
    "plt.yticks([])\n",
    "plt.xlabel(\"Inverse\")\n",
    "plt.imshow(images_train[0], cmap=plt.cm.binary)\n",
    "\n",
    "plt.subplot(3, 6, 2)\n",
    "plt.xticks([])\n",
    "plt.yticks([])\n",
    "plt.xlabel(\"Original\")\n",
    "plt.imshow(images_train[0], cmap=plt.cm.gray)"
   ]
  },
  {
   "cell_type": "markdown",
   "metadata": {},
   "source": [
    "## Model training"
   ]
  },
  {
   "cell_type": "code",
   "execution_count": 9,
   "metadata": {},
   "outputs": [],
   "source": [
    "model = tf.keras.models.Sequential([\n",
    "  tf.keras.layers.Flatten(input_shape=(28,28)),\n",
    "  tf.keras.layers.Dense(512, activation=tf.nn.relu),\n",
    "  tf.keras.layers.Dropout(0.2),\n",
    "  tf.keras.layers.Dense(512, activation=tf.nn.relu),\n",
    "  tf.keras.layers.Dropout(0.2),\n",
    "  tf.keras.layers.Dense(10, activation=tf.nn.softmax)\n",
    "])\n",
    "\n",
    "model.compile(optimizer='adam',\n",
    "              loss='sparse_categorical_crossentropy',\n",
    "              metrics=['accuracy'])"
   ]
  },
  {
   "cell_type": "code",
   "execution_count": 10,
   "metadata": {},
   "outputs": [
    {
     "name": "stdout",
     "output_type": "stream",
     "text": [
      "Epoch 1/16\n",
      "60000/60000 [==============================] - 18s 295us/step - loss: 0.2146 - acc: 0.9361\n",
      "Epoch 2/16\n",
      "60000/60000 [==============================] - 18s 299us/step - loss: 0.1063 - acc: 0.9677\n",
      "Epoch 3/16\n",
      "60000/60000 [==============================] - 18s 298us/step - loss: 0.0809 - acc: 0.9748\n",
      "Epoch 4/16\n",
      "60000/60000 [==============================] - 18s 295us/step - loss: 0.0672 - acc: 0.9791\n",
      "Epoch 5/16\n",
      "60000/60000 [==============================] - 20s 326us/step - loss: 0.0589 - acc: 0.9811\n",
      "Epoch 6/16\n",
      "60000/60000 [==============================] - 21s 343us/step - loss: 0.0530 - acc: 0.9834\n",
      "Epoch 7/16\n",
      "60000/60000 [==============================] - 20s 329us/step - loss: 0.0481 - acc: 0.9851\n",
      "Epoch 8/16\n",
      "60000/60000 [==============================] - 19s 316us/step - loss: 0.0432 - acc: 0.9863\n",
      "Epoch 9/16\n",
      "60000/60000 [==============================] - 17s 279us/step - loss: 0.0402 - acc: 0.9872\n",
      "Epoch 10/16\n",
      "60000/60000 [==============================] - 19s 324us/step - loss: 0.0382 - acc: 0.9891\n",
      "Epoch 11/16\n",
      "60000/60000 [==============================] - 18s 307us/step - loss: 0.0392 - acc: 0.9880\n",
      "Epoch 12/16\n",
      "60000/60000 [==============================] - 18s 304us/step - loss: 0.0357 - acc: 0.9891\n",
      "Epoch 13/16\n",
      "60000/60000 [==============================] - 22s 370us/step - loss: 0.0325 - acc: 0.9907\n",
      "Epoch 14/16\n",
      "60000/60000 [==============================] - 19s 315us/step - loss: 0.0307 - acc: 0.9917\n",
      "Epoch 15/16\n",
      "60000/60000 [==============================] - 20s 328us/step - loss: 0.0300 - acc: 0.9908\n",
      "Epoch 16/16\n",
      "60000/60000 [==============================] - 18s 301us/step - loss: 0.0318 - acc: 0.9909\n"
     ]
    },
    {
     "data": {
      "text/plain": [
       "<tensorflow.python.keras.callbacks.History at 0x7fa14e5176a0>"
      ]
     },
     "execution_count": 10,
     "metadata": {},
     "output_type": "execute_result"
    }
   ],
   "source": [
    "model.fit(images_train, labels_train, epochs=16)"
   ]
  },
  {
   "cell_type": "code",
   "execution_count": 11,
   "metadata": {},
   "outputs": [
    {
     "name": "stdout",
     "output_type": "stream",
     "text": [
      "10000/10000 [==============================] - 1s 61us/step\n",
      "Test accuracy: 0.9842\n"
     ]
    }
   ],
   "source": [
    "test_loss, test_acc = model.evaluate(images_test, labels_test)\n",
    "print('Test accuracy:', test_acc)"
   ]
  },
  {
   "cell_type": "markdown",
   "metadata": {},
   "source": [
    "## Model evaluation "
   ]
  },
  {
   "cell_type": "markdown",
   "metadata": {},
   "source": [
    "Let's take one image from the test set:"
   ]
  },
  {
   "cell_type": "code",
   "execution_count": 12,
   "metadata": {},
   "outputs": [],
   "source": [
    "example_img = images_test[0]"
   ]
  },
  {
   "cell_type": "code",
   "execution_count": 13,
   "metadata": {},
   "outputs": [
    {
     "data": {
      "text/plain": [
       "<matplotlib.image.AxesImage at 0x7fa152b9f898>"
      ]
     },
     "execution_count": 13,
     "metadata": {},
     "output_type": "execute_result"
    },
    {
     "data": {
      "image/png": "[encoded data removed]",
      "text/plain": [
       "<Figure size 432x288 with 1 Axes>"
      ]
     },
     "metadata": {},
     "output_type": "display_data"
    }
   ],
   "source": [
    "plt.grid(False)\n",
    "plt.xticks([])\n",
    "plt.yticks([])\n",
    "plt.imshow(example_img, cmap=plt.cm.binary)"
   ]
  },
  {
   "cell_type": "markdown",
   "metadata": {},
   "source": [
    "What does our prediction say?"
   ]
  },
  {
   "cell_type": "code",
   "execution_count": 14,
   "metadata": {},
   "outputs": [
    {
     "name": "stdout",
     "output_type": "stream",
     "text": [
      "Image data shape: (1, 28, 28)\n",
      "Prediction results: [[1.4690932e-19 9.6753541e-13 6.5179342e-15 5.8694096e-12 3.5496546e-21\n",
      "  9.8531299e-21 2.1520656e-26 1.0000000e+00 4.4833306e-15 7.8319122e-11]]\n",
      "Predicted value: 7\n"
     ]
    }
   ],
   "source": [
    "example_img_as_input = (np.expand_dims(example_img,0))\n",
    "print(\"Image data shape:\", example_img_as_input.shape)\n",
    "\n",
    "img_prediction = model.predict(example_img_as_input)\n",
    "print(\"Prediction results:\", img_prediction)\n",
    "print(\"Predicted value:\", np.argmax(img_prediction))"
   ]
  },
  {
   "cell_type": "markdown",
   "metadata": {},
   "source": [
    "Visualise more predictions. Plot the first X test images, their predicted label, and the true label. Color correct predictions in blue, incorrect predictions in red."
   ]
  },
  {
   "cell_type": "code",
   "execution_count": 15,
   "metadata": {},
   "outputs": [],
   "source": [
    "# Helper functions\n",
    "\n",
    "import matplotlib.pyplot as plt\n",
    "import numpy as np\n",
    "\n",
    "\n",
    "def plot_image(i, predictions_array, true_label, img, class_names):\n",
    "    predictions_array, true_label, img = predictions_array[i], true_label[i], img[i]\n",
    "    plt.grid(False)\n",
    "    plt.xticks([])\n",
    "    plt.yticks([])\n",
    "\n",
    "    plt.imshow(img, cmap=plt.cm.binary)\n",
    "\n",
    "    predicted_label = np.argmax(predictions_array)\n",
    "    if predicted_label == true_label:\n",
    "        color = 'blue'\n",
    "    else:\n",
    "        color = 'red'\n",
    "\n",
    "    plt.xlabel(\"{} {:2.0f}% ({})\".format(class_names[predicted_label],\n",
    "                                         100 * np.max(predictions_array),\n",
    "                                         class_names[true_label]),\n",
    "               color=color)\n",
    "\n",
    "\n",
    "def plot_value_array(i, predictions_array, true_label):\n",
    "    predictions_array, true_label = predictions_array[i], true_label[i]\n",
    "    plt.grid(False)\n",
    "    plt.xticks([])\n",
    "    plt.yticks([])\n",
    "    thisplot = plt.bar(range(10), predictions_array, color=\"#777777\")\n",
    "    plt.ylim([0, 1])\n",
    "    predicted_label = np.argmax(predictions_array)\n",
    "\n",
    "    thisplot[predicted_label].set_color('red')\n",
    "    thisplot[true_label].set_color('blue')\n"
   ]
  },
  {
   "cell_type": "code",
   "execution_count": 16,
   "metadata": {
    "scrolled": true
   },
   "outputs": [
    {
     "data": {
      "image/png": "[encoded data removed]",
      "text/plain": [
       "<Figure size 864x720 with 30 Axes>"
      ]
     },
     "metadata": {},
     "output_type": "display_data"
    }
   ],
   "source": [
    "predictions = model.predict(images_test)\n",
    "\n",
    "num_rows = 5\n",
    "num_cols = 3\n",
    "num_images = num_rows*num_cols\n",
    "plt.figure(figsize=(2  *2*num_cols, 2*num_rows))\n",
    "for i in range(num_images):\n",
    "  plt.subplot(num_rows, 2*num_cols, 2*i+1)\n",
    "  plot_image(i, predictions, labels_test, images_test, class_names)\n",
    "  plt.subplot(num_rows, 2*num_cols, 2*i+2)\n",
    "  plot_value_array(i, predictions, labels_test)"
   ]
  },
  {
   "cell_type": "markdown",
   "metadata": {},
   "source": [
    "## Save and export model"
   ]
  },
  {
   "cell_type": "code",
   "execution_count": 17,
   "metadata": {},
   "outputs": [],
   "source": [
    "!pip install -q h5py pyyaml"
   ]
  },
  {
   "cell_type": "code",
   "execution_count": 18,
   "metadata": {},
   "outputs": [
    {
     "name": "stdout",
     "output_type": "stream",
     "text": [
      "_________________________________________________________________\n",
      "Layer (type)                 Output Shape              Param #   \n",
      "=================================================================\n",
      "flatten (Flatten)            (None, 784)               0         \n",
      "_________________________________________________________________\n",
      "dense (Dense)                (None, 512)               401920    \n",
      "_________________________________________________________________\n",
      "dropout (Dropout)            (None, 512)               0         \n",
      "_________________________________________________________________\n",
      "dense_1 (Dense)              (None, 512)               262656    \n",
      "_________________________________________________________________\n",
      "dropout_1 (Dropout)          (None, 512)               0         \n",
      "_________________________________________________________________\n",
      "dense_2 (Dense)              (None, 10)                5130      \n",
      "=================================================================\n",
      "Total params: 669,706\n",
      "Trainable params: 669,706\n",
      "Non-trainable params: 0\n",
      "_________________________________________________________________\n",
      "10000/10000 [==============================] - 1s 77us/step\n",
      "Restored model, accuracy: 98.42%\n",
      "Restored model, loss: 0.08279526897818869\n"
     ]
    }
   ],
   "source": [
    "model.summary()\n",
    "loss, acc = model.evaluate(images_test, labels_test)\n",
    "print(\"Restored model, accuracy: {:5.2f}%\".format(100*acc))\n",
    "print(\"Restored model, loss: {}\".format(loss))"
   ]
  },
  {
   "cell_type": "code",
   "execution_count": 19,
   "metadata": {},
   "outputs": [],
   "source": [
    "keras_mnist_model = 'mnist_model.h5'"
   ]
  },
  {
   "cell_type": "code",
   "execution_count": 20,
   "metadata": {},
   "outputs": [],
   "source": [
    "model.save(keras_mnist_model)"
   ]
  },
  {
   "cell_type": "markdown",
   "metadata": {},
   "source": [
    "### Load saved model\n",
    "Just to make sure that it looks the same as the one that we created."
   ]
  },
  {
   "cell_type": "code",
   "execution_count": 21,
   "metadata": {},
   "outputs": [
    {
     "name": "stdout",
     "output_type": "stream",
     "text": [
      "_________________________________________________________________\n",
      "Layer (type)                 Output Shape              Param #   \n",
      "=================================================================\n",
      "flatten (Flatten)            (None, 784)               0         \n",
      "_________________________________________________________________\n",
      "dense (Dense)                (None, 512)               401920    \n",
      "_________________________________________________________________\n",
      "dropout (Dropout)            (None, 512)               0         \n",
      "_________________________________________________________________\n",
      "dense_1 (Dense)              (None, 512)               262656    \n",
      "_________________________________________________________________\n",
      "dropout_1 (Dropout)          (None, 512)               0         \n",
      "_________________________________________________________________\n",
      "dense_2 (Dense)              (None, 10)                5130      \n",
      "=================================================================\n",
      "Total params: 669,706\n",
      "Trainable params: 669,706\n",
      "Non-trainable params: 0\n",
      "_________________________________________________________________\n"
     ]
    }
   ],
   "source": [
    "new_model = keras.models.load_model(keras_mnist_model)\n",
    "new_model.summary()"
   ]
  },
  {
   "cell_type": "code",
   "execution_count": 22,
   "metadata": {},
   "outputs": [
    {
     "name": "stdout",
     "output_type": "stream",
     "text": [
      "10000/10000 [==============================] - 1s 87us/step\n",
      "Restored model, accuracy: 98.42%\n",
      "Restored model, loss: 0.08279526897818869\n"
     ]
    }
   ],
   "source": [
    "loss, acc = new_model.evaluate(images_test, labels_test)\n",
    "print(\"Restored model, accuracy: {:5.2f}%\".format(100*acc))\n",
    "print(\"Restored model, loss: {}\".format(loss))"
   ]
  },
  {
   "cell_type": "markdown",
   "metadata": {},
   "source": [
    "## Convert model to TensorFlow Lite"
   ]
  },
  {
   "cell_type": "code",
   "execution_count": 23,
   "metadata": {},
   "outputs": [
    {
     "name": "stdout",
     "output_type": "stream",
     "text": [
      "INFO:tensorflow:Froze 6 variables.\n",
      "INFO:tensorflow:Converted 6 variables to const ops.\n"
     ]
    },
    {
     "data": {
      "text/plain": [
       "2680200"
      ]
     },
     "execution_count": 23,
     "metadata": {},
     "output_type": "execute_result"
    }
   ],
   "source": [
    "tflite_mnist_model = \"mnist_model.tflite\"\n",
    "\n",
    "converter = tf.contrib.lite.TFLiteConverter.from_keras_model_file(keras_mnist_model)\n",
    "tflite_model = converter.convert()\n",
    "open(tflite_mnist_model, \"wb\").write(tflite_model)"
   ]
  },
  {
   "cell_type": "markdown",
   "metadata": {},
   "source": [
    "(⚠️📲👀)\n",
    "\n",
    "Now learn more about out TensorFlow Lite model. You need to know those information when you will implement model in client app (Android, iOS, anything else using TensorFlow Lite)."
   ]
  },
  {
   "cell_type": "code",
   "execution_count": 24,
   "metadata": {},
   "outputs": [
    {
     "name": "stdout",
     "output_type": "stream",
     "text": [
      "== Input details ==\n",
      "name: flatten_input\n",
      "shape: [ 1 28 28]\n",
      "type: <class 'numpy.float32'>\n",
      "\n",
      "== Output details ==\n",
      "name: dense_2/Softmax\n",
      "shape: [ 1 10]\n",
      "type: <class 'numpy.float32'>\n",
      "\n",
      "DUMP INPUT\n",
      "{'index': 10, 'name': 'flatten_input', 'quantization': (0.0, 0), 'shape': array([ 1, 28, 28], dtype=int32), 'dtype': <class 'numpy.float32'>}\n",
      "\n",
      "DUMP OUTPUT\n",
      "{'index': 8, 'name': 'dense_2/Softmax', 'quantization': (0.0, 0), 'shape': array([ 1, 10], dtype=int32), 'dtype': <class 'numpy.float32'>}\n"
     ]
    }
   ],
   "source": [
    "interpreter = tf.contrib.lite.Interpreter(model_path=tflite_mnist_model)\n",
    "interpreter.allocate_tensors()\n",
    "\n",
    "print(\"== Input details ==\")\n",
    "print(\"name:\", interpreter.get_input_details()[0]['name'])\n",
    "print(\"shape:\", interpreter.get_input_details()[0]['shape'])\n",
    "print(\"type:\", interpreter.get_input_details()[0]['dtype'])\n",
    "\n",
    "print(\"\\n== Output details ==\")\n",
    "print(\"name:\", interpreter.get_output_details()[0]['name'])\n",
    "print(\"shape:\", interpreter.get_output_details()[0]['shape'])\n",
    "print(\"type:\", interpreter.get_output_details()[0]['dtype'])\n",
    "\n",
    "print(\"\\nDUMP INPUT\")\n",
    "print(interpreter.get_input_details()[0])\n",
    "print(\"\\nDUMP OUTPUT\")\n",
    "print(interpreter.get_output_details()[0])"
   ]
  },
  {
   "cell_type": "markdown",
   "metadata": {},
   "source": [
    "From input details we learn that input shape is [1 28 28] and its type - Float32. On mobile app we'll need to create byte array of size: 3136 bytes (28 x 28 x 4). 4 is size of Float32 value."
   ]
  },
  {
   "cell_type": "markdown",
   "metadata": {},
   "source": [
    "## TensorFlow Lite model evaluation\n",
    "Let's make sure our TF Lite model is still working after the conversion. \n",
    "\n",
    "Pick random image:"
   ]
  },
  {
   "cell_type": "code",
   "execution_count": 25,
   "metadata": {},
   "outputs": [
    {
     "data": {
      "text/plain": [
       "<matplotlib.image.AxesImage at 0x7fa0feaf7048>"
      ]
     },
     "execution_count": 25,
     "metadata": {},
     "output_type": "execute_result"
    },
    {
     "data": {
      "image/png": "[encoded data removed]",
      "text/plain": [
       "<Figure size 432x288 with 1 Axes>"
      ]
     },
     "metadata": {},
     "output_type": "display_data"
    }
   ],
   "source": [
    "example_img_for_tflite = images_test[10]\n",
    "\n",
    "plt.grid(False)\n",
    "plt.xticks([])\n",
    "plt.yticks([])\n",
    "plt.imshow(example_img_for_tflite, cmap=plt.cm.binary)"
   ]
  },
  {
   "cell_type": "markdown",
   "metadata": {},
   "source": [
    "Make sure that input data is matching to model's input and make a prediction! 🙂"
   ]
  },
  {
   "cell_type": "code",
   "execution_count": 26,
   "metadata": {},
   "outputs": [
    {
     "name": "stdout",
     "output_type": "stream",
     "text": [
      "Input data shape: (1, 28, 28)\n",
      "Input data type: float32\n",
      "\n",
      "\n",
      "Prediction results: [[1.0000000e+00 0.0000000e+00 1.0811283e-33 3.5635020e-42 2.4210794e-40\n",
      "  2.5139294e-42 1.5545197e-36 1.9095801e-33 1.7956449e-39 9.2877016e-30]]\n",
      "Predicted value: 0\n"
     ]
    }
   ],
   "source": [
    "example_img_for_tflite = np.expand_dims(example_img_for_tflite,0).astype(np.float32)\n",
    "print(\"Input data shape:\", example_img_for_tflite.shape)\n",
    "print(\"Input data type:\", example_img_for_tflite.dtype)\n",
    "\n",
    "input_details = interpreter.get_input_details()\n",
    "interpreter.set_tensor(input_details[0]['index'], example_img_for_tflite)\n",
    "\n",
    "interpreter.invoke()\n",
    "\n",
    "output_details = interpreter.get_output_details()\n",
    "output_data = interpreter.get_tensor(output_details[0]['index'])\n",
    "print(\"\\n\\nPrediction results:\", output_data)\n",
    "print(\"Predicted value:\", np.argmax(output_data))"
   ]
  },
  {
   "cell_type": "markdown",
   "metadata": {},
   "source": [
    "Classify image from the outside. Something similar what app will do."
   ]
  },
  {
   "cell_type": "code",
   "execution_count": 27,
   "metadata": {},
   "outputs": [
    {
     "name": "stdout",
     "output_type": "stream",
     "text": [
      "Prediction results: [[1.0000000e+00 1.1132402e-34 8.5123743e-31 1.2891844e-29 2.4374999e-36\n",
      "  1.0177892e-20 4.8579324e-21 6.1996755e-23 5.8513043e-26 4.8028417e-27]]\n",
      "Predicted value: 0\n"
     ]
    },
    {
     "data": {
      "image/png": "[encoded data removed]",
      "text/plain": [
       "<Figure size 432x288 with 1 Axes>"
      ]
     },
     "metadata": {},
     "output_type": "display_data"
    }
   ],
   "source": [
    "from PIL import Image\n",
    "import PIL.ImageOps    \n",
    "\n",
    "img = Image.open(\"test.png\").convert('L')\n",
    "img.load()\n",
    "img = PIL.ImageOps.invert(img)\n",
    "data = np.asarray( img, dtype=\"int32\" )\n",
    "\n",
    "plt.grid(False)\n",
    "plt.xticks([])\n",
    "plt.yticks([])\n",
    "plt.imshow(data, cmap=plt.cm.binary)\n",
    "\n",
    "data = data / 255.0\n",
    "inputImg = np.expand_dims(data,0).astype(np.float32)\n",
    "inputImg.shape\n",
    "\n",
    "input_details = interpreter.get_input_details()\n",
    "interpreter.set_tensor(input_details[0]['index'], inputImg)\n",
    "\n",
    "interpreter.invoke()\n",
    "\n",
    "output_details = interpreter.get_output_details()\n",
    "output_data = interpreter.get_tensor(output_details[0]['index'])\n",
    "print(\"Prediction results:\", output_data)\n",
    "print(\"Predicted value:\", np.argmax(output_data))"
   ]
  },
  {
   "cell_type": "code",
   "execution_count": null,
   "metadata": {},
   "outputs": [],
   "source": []
  }
 ],
 "metadata": {
  "kernelspec": {
   "display_name": "Python 3",
   "language": "python",
   "name": "python3"
  },
  "language_info": {
   "codemirror_mode": {
    "name": "ipython",
    "version": 3
   },
   "file_extension": ".py",
   "mimetype": "text/x-python",
   "name": "python",
   "nbconvert_exporter": "python",
   "pygments_lexer": "ipython3",
   "version": "3.5.2"
  }
 },
 "nbformat": 4,
 "nbformat_minor": 2
}
